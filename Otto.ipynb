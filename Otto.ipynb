{
 "cells": [
  {
   "cell_type": "code",
   "execution_count": 2,
   "metadata": {},
   "outputs": [],
   "source": [
    "from pandas import read_csv\n",
    "from xgboost import XGBClassifier \n",
    "from sklearn.preprocessing import LabelEncoder\n",
    "from sklearn.model_selection import StratifiedKFold, GridSearchCV, ParameterGrid\n",
    "from sklearn.model_selection import cross_val_score\n",
    "import time\n",
    "import numpy as np\n",
    "from matplotlib import pyplot\n",
    "from sklearn import model_selection\n",
    "from sklearn.metrics import accuracy_score, precision_score, classification_report, confusion_matrix, auc\n",
    "\n",
    "\n",
    "\n"
   ]
  },
  {
   "cell_type": "code",
   "execution_count": 3,
   "metadata": {},
   "outputs": [],
   "source": [
    "# load data\n",
    "train_data = read_csv('train.csv')\n",
    "#test_data = read_csv('test.csv')"
   ]
  },
  {
   "cell_type": "code",
   "execution_count": 4,
   "metadata": {
    "scrolled": true
   },
   "outputs": [
    {
     "name": "stdout",
     "output_type": "stream",
     "text": [
      "(61878, 95)\n"
     ]
    }
   ],
   "source": [
    "# Training data dimensions\n",
    "print(train_data.shape)\n",
    "#print(test_data.shape)\n"
   ]
  },
  {
   "cell_type": "code",
   "execution_count": 5,
   "metadata": {
    "scrolled": true
   },
   "outputs": [
    {
     "data": {
      "text/html": [
       "<div>\n",
       "<style scoped>\n",
       "    .dataframe tbody tr th:only-of-type {\n",
       "        vertical-align: middle;\n",
       "    }\n",
       "\n",
       "    .dataframe tbody tr th {\n",
       "        vertical-align: top;\n",
       "    }\n",
       "\n",
       "    .dataframe thead th {\n",
       "        text-align: right;\n",
       "    }\n",
       "</style>\n",
       "<table border=\"1\" class=\"dataframe\">\n",
       "  <thead>\n",
       "    <tr style=\"text-align: right;\">\n",
       "      <th></th>\n",
       "      <th>id</th>\n",
       "      <th>feat_1</th>\n",
       "      <th>feat_2</th>\n",
       "      <th>feat_3</th>\n",
       "      <th>feat_4</th>\n",
       "      <th>feat_5</th>\n",
       "      <th>feat_6</th>\n",
       "      <th>feat_7</th>\n",
       "      <th>feat_8</th>\n",
       "      <th>feat_9</th>\n",
       "      <th>...</th>\n",
       "      <th>feat_85</th>\n",
       "      <th>feat_86</th>\n",
       "      <th>feat_87</th>\n",
       "      <th>feat_88</th>\n",
       "      <th>feat_89</th>\n",
       "      <th>feat_90</th>\n",
       "      <th>feat_91</th>\n",
       "      <th>feat_92</th>\n",
       "      <th>feat_93</th>\n",
       "      <th>target</th>\n",
       "    </tr>\n",
       "  </thead>\n",
       "  <tbody>\n",
       "    <tr>\n",
       "      <td>47044</td>\n",
       "      <td>47045</td>\n",
       "      <td>0</td>\n",
       "      <td>0</td>\n",
       "      <td>0</td>\n",
       "      <td>0</td>\n",
       "      <td>0</td>\n",
       "      <td>0</td>\n",
       "      <td>3</td>\n",
       "      <td>0</td>\n",
       "      <td>0</td>\n",
       "      <td>...</td>\n",
       "      <td>3</td>\n",
       "      <td>1</td>\n",
       "      <td>2</td>\n",
       "      <td>1</td>\n",
       "      <td>0</td>\n",
       "      <td>0</td>\n",
       "      <td>0</td>\n",
       "      <td>0</td>\n",
       "      <td>0</td>\n",
       "      <td>Class_7</td>\n",
       "    </tr>\n",
       "    <tr>\n",
       "      <td>19151</td>\n",
       "      <td>19152</td>\n",
       "      <td>0</td>\n",
       "      <td>0</td>\n",
       "      <td>0</td>\n",
       "      <td>0</td>\n",
       "      <td>0</td>\n",
       "      <td>0</td>\n",
       "      <td>0</td>\n",
       "      <td>0</td>\n",
       "      <td>0</td>\n",
       "      <td>...</td>\n",
       "      <td>0</td>\n",
       "      <td>0</td>\n",
       "      <td>0</td>\n",
       "      <td>1</td>\n",
       "      <td>0</td>\n",
       "      <td>0</td>\n",
       "      <td>0</td>\n",
       "      <td>0</td>\n",
       "      <td>0</td>\n",
       "      <td>Class_3</td>\n",
       "    </tr>\n",
       "    <tr>\n",
       "      <td>46686</td>\n",
       "      <td>46687</td>\n",
       "      <td>0</td>\n",
       "      <td>0</td>\n",
       "      <td>0</td>\n",
       "      <td>0</td>\n",
       "      <td>0</td>\n",
       "      <td>0</td>\n",
       "      <td>0</td>\n",
       "      <td>0</td>\n",
       "      <td>0</td>\n",
       "      <td>...</td>\n",
       "      <td>0</td>\n",
       "      <td>0</td>\n",
       "      <td>0</td>\n",
       "      <td>0</td>\n",
       "      <td>0</td>\n",
       "      <td>2</td>\n",
       "      <td>0</td>\n",
       "      <td>0</td>\n",
       "      <td>0</td>\n",
       "      <td>Class_7</td>\n",
       "    </tr>\n",
       "    <tr>\n",
       "      <td>2543</td>\n",
       "      <td>2544</td>\n",
       "      <td>0</td>\n",
       "      <td>0</td>\n",
       "      <td>0</td>\n",
       "      <td>0</td>\n",
       "      <td>0</td>\n",
       "      <td>0</td>\n",
       "      <td>0</td>\n",
       "      <td>0</td>\n",
       "      <td>0</td>\n",
       "      <td>...</td>\n",
       "      <td>0</td>\n",
       "      <td>2</td>\n",
       "      <td>1</td>\n",
       "      <td>0</td>\n",
       "      <td>0</td>\n",
       "      <td>0</td>\n",
       "      <td>0</td>\n",
       "      <td>1</td>\n",
       "      <td>0</td>\n",
       "      <td>Class_2</td>\n",
       "    </tr>\n",
       "    <tr>\n",
       "      <td>1108</td>\n",
       "      <td>1109</td>\n",
       "      <td>0</td>\n",
       "      <td>0</td>\n",
       "      <td>0</td>\n",
       "      <td>0</td>\n",
       "      <td>0</td>\n",
       "      <td>0</td>\n",
       "      <td>0</td>\n",
       "      <td>1</td>\n",
       "      <td>0</td>\n",
       "      <td>...</td>\n",
       "      <td>0</td>\n",
       "      <td>0</td>\n",
       "      <td>0</td>\n",
       "      <td>0</td>\n",
       "      <td>0</td>\n",
       "      <td>0</td>\n",
       "      <td>0</td>\n",
       "      <td>0</td>\n",
       "      <td>0</td>\n",
       "      <td>Class_1</td>\n",
       "    </tr>\n",
       "    <tr>\n",
       "      <td>46527</td>\n",
       "      <td>46528</td>\n",
       "      <td>0</td>\n",
       "      <td>0</td>\n",
       "      <td>0</td>\n",
       "      <td>0</td>\n",
       "      <td>0</td>\n",
       "      <td>0</td>\n",
       "      <td>1</td>\n",
       "      <td>1</td>\n",
       "      <td>0</td>\n",
       "      <td>...</td>\n",
       "      <td>2</td>\n",
       "      <td>0</td>\n",
       "      <td>3</td>\n",
       "      <td>0</td>\n",
       "      <td>0</td>\n",
       "      <td>0</td>\n",
       "      <td>0</td>\n",
       "      <td>0</td>\n",
       "      <td>1</td>\n",
       "      <td>Class_7</td>\n",
       "    </tr>\n",
       "    <tr>\n",
       "      <td>702</td>\n",
       "      <td>703</td>\n",
       "      <td>1</td>\n",
       "      <td>0</td>\n",
       "      <td>0</td>\n",
       "      <td>0</td>\n",
       "      <td>0</td>\n",
       "      <td>0</td>\n",
       "      <td>0</td>\n",
       "      <td>6</td>\n",
       "      <td>0</td>\n",
       "      <td>...</td>\n",
       "      <td>0</td>\n",
       "      <td>0</td>\n",
       "      <td>0</td>\n",
       "      <td>0</td>\n",
       "      <td>1</td>\n",
       "      <td>0</td>\n",
       "      <td>0</td>\n",
       "      <td>0</td>\n",
       "      <td>0</td>\n",
       "      <td>Class_1</td>\n",
       "    </tr>\n",
       "    <tr>\n",
       "      <td>22028</td>\n",
       "      <td>22029</td>\n",
       "      <td>1</td>\n",
       "      <td>0</td>\n",
       "      <td>0</td>\n",
       "      <td>0</td>\n",
       "      <td>0</td>\n",
       "      <td>0</td>\n",
       "      <td>0</td>\n",
       "      <td>1</td>\n",
       "      <td>0</td>\n",
       "      <td>...</td>\n",
       "      <td>0</td>\n",
       "      <td>1</td>\n",
       "      <td>0</td>\n",
       "      <td>0</td>\n",
       "      <td>0</td>\n",
       "      <td>0</td>\n",
       "      <td>0</td>\n",
       "      <td>0</td>\n",
       "      <td>0</td>\n",
       "      <td>Class_3</td>\n",
       "    </tr>\n",
       "    <tr>\n",
       "      <td>30460</td>\n",
       "      <td>30461</td>\n",
       "      <td>0</td>\n",
       "      <td>0</td>\n",
       "      <td>0</td>\n",
       "      <td>0</td>\n",
       "      <td>0</td>\n",
       "      <td>0</td>\n",
       "      <td>0</td>\n",
       "      <td>1</td>\n",
       "      <td>0</td>\n",
       "      <td>...</td>\n",
       "      <td>0</td>\n",
       "      <td>0</td>\n",
       "      <td>0</td>\n",
       "      <td>0</td>\n",
       "      <td>0</td>\n",
       "      <td>0</td>\n",
       "      <td>0</td>\n",
       "      <td>0</td>\n",
       "      <td>0</td>\n",
       "      <td>Class_5</td>\n",
       "    </tr>\n",
       "    <tr>\n",
       "      <td>36525</td>\n",
       "      <td>36526</td>\n",
       "      <td>0</td>\n",
       "      <td>0</td>\n",
       "      <td>0</td>\n",
       "      <td>0</td>\n",
       "      <td>0</td>\n",
       "      <td>0</td>\n",
       "      <td>0</td>\n",
       "      <td>0</td>\n",
       "      <td>0</td>\n",
       "      <td>...</td>\n",
       "      <td>0</td>\n",
       "      <td>0</td>\n",
       "      <td>0</td>\n",
       "      <td>1</td>\n",
       "      <td>0</td>\n",
       "      <td>0</td>\n",
       "      <td>0</td>\n",
       "      <td>0</td>\n",
       "      <td>0</td>\n",
       "      <td>Class_6</td>\n",
       "    </tr>\n",
       "  </tbody>\n",
       "</table>\n",
       "<p>10 rows × 95 columns</p>\n",
       "</div>"
      ],
      "text/plain": [
       "          id  feat_1  feat_2  feat_3  feat_4  feat_5  feat_6  feat_7  feat_8  \\\n",
       "47044  47045       0       0       0       0       0       0       3       0   \n",
       "19151  19152       0       0       0       0       0       0       0       0   \n",
       "46686  46687       0       0       0       0       0       0       0       0   \n",
       "2543    2544       0       0       0       0       0       0       0       0   \n",
       "1108    1109       0       0       0       0       0       0       0       1   \n",
       "46527  46528       0       0       0       0       0       0       1       1   \n",
       "702      703       1       0       0       0       0       0       0       6   \n",
       "22028  22029       1       0       0       0       0       0       0       1   \n",
       "30460  30461       0       0       0       0       0       0       0       1   \n",
       "36525  36526       0       0       0       0       0       0       0       0   \n",
       "\n",
       "       feat_9  ...  feat_85  feat_86  feat_87  feat_88  feat_89  feat_90  \\\n",
       "47044       0  ...        3        1        2        1        0        0   \n",
       "19151       0  ...        0        0        0        1        0        0   \n",
       "46686       0  ...        0        0        0        0        0        2   \n",
       "2543        0  ...        0        2        1        0        0        0   \n",
       "1108        0  ...        0        0        0        0        0        0   \n",
       "46527       0  ...        2        0        3        0        0        0   \n",
       "702         0  ...        0        0        0        0        1        0   \n",
       "22028       0  ...        0        1        0        0        0        0   \n",
       "30460       0  ...        0        0        0        0        0        0   \n",
       "36525       0  ...        0        0        0        1        0        0   \n",
       "\n",
       "       feat_91  feat_92  feat_93   target  \n",
       "47044        0        0        0  Class_7  \n",
       "19151        0        0        0  Class_3  \n",
       "46686        0        0        0  Class_7  \n",
       "2543         0        1        0  Class_2  \n",
       "1108         0        0        0  Class_1  \n",
       "46527        0        0        1  Class_7  \n",
       "702          0        0        0  Class_1  \n",
       "22028        0        0        0  Class_3  \n",
       "30460        0        0        0  Class_5  \n",
       "36525        0        0        0  Class_6  \n",
       "\n",
       "[10 rows x 95 columns]"
      ]
     },
     "execution_count": 5,
     "metadata": {},
     "output_type": "execute_result"
    }
   ],
   "source": [
    "# SAMPLE 10 Rows from training dataset\n",
    "train_data.sample(n=10)"
   ]
  },
  {
   "cell_type": "markdown",
   "metadata": {},
   "source": [
    "Each *column* represents a feature measured by an integer. Each *row* is an **Otto** product.\n",
    "The **Class Labels (targets)** are provided as character string in the last column. The **Otto** challenge is a multi class classification challenge."
   ]
  },
  {
   "cell_type": "code",
   "execution_count": 6,
   "metadata": {},
   "outputs": [
    {
     "data": {
      "text/plain": [
       "id          int64\n",
       "feat_1      int64\n",
       "feat_2      int64\n",
       "feat_3      int64\n",
       "feat_4      int64\n",
       "            ...  \n",
       "feat_90     int64\n",
       "feat_91     int64\n",
       "feat_92     int64\n",
       "feat_93     int64\n",
       "target     object\n",
       "Length: 95, dtype: object"
      ]
     },
     "execution_count": 6,
     "metadata": {},
     "output_type": "execute_result"
    }
   ],
   "source": [
    "# checking datatypes of Training columns\n",
    "train_data.dtypes"
   ]
  },
  {
   "cell_type": "code",
   "execution_count": null,
   "metadata": {},
   "outputs": [],
   "source": []
  },
  {
   "cell_type": "code",
   "execution_count": 7,
   "metadata": {},
   "outputs": [
    {
     "name": "stdout",
     "output_type": "stream",
     "text": [
      "Input Features \n",
      " [[1 0 0 ... 0 0 0]\n",
      " [0 0 0 ... 0 0 0]\n",
      " [0 0 0 ... 0 0 0]\n",
      " ...\n",
      " [0 0 0 ... 0 0 0]\n",
      " [1 0 0 ... 3 10 0]\n",
      " [0 0 0 ... 0 2 0]] \n",
      "\n",
      " Target Labels \n",
      " ['Class_1' 'Class_1' 'Class_1' ... 'Class_9' 'Class_9' 'Class_9']\n"
     ]
    }
   ],
   "source": [
    "# split data into X(features) and y(target labels)\n",
    "X = train_data.values[:, 1:94]\n",
    "y = train_data.values[:,94]\n",
    "\n",
    "print(\"Input Features \\n\", X, \"\\n\\n Target Labels \\n\", y)"
   ]
  },
  {
   "cell_type": "markdown",
   "metadata": {},
   "source": [
    "The classes are provided as character string in the **target column**. **XGBoost** doesn't support anything else than numbers. So we will convert classes to integers. Moreover, according to the documentation, it should start at 0.\n"
   ]
  },
  {
   "cell_type": "code",
   "execution_count": 8,
   "metadata": {},
   "outputs": [
    {
     "name": "stdout",
     "output_type": "stream",
     "text": [
      "[0 0 0 ... 8 8 8]\n"
     ]
    },
    {
     "data": {
      "text/plain": [
       "array([0, 1, 2, 3, 4, 5, 6, 7, 8])"
      ]
     },
     "execution_count": 8,
     "metadata": {},
     "output_type": "execute_result"
    }
   ],
   "source": [
    "# encode string class values as integers, a\n",
    "label_encoded_y = LabelEncoder().fit_transform(y)\n",
    "print(label_encoded_y)\n",
    "\n",
    "# Check no. of unique labels\n",
    "np.unique(label_encoded_y)"
   ]
  },
  {
   "cell_type": "code",
   "execution_count": 9,
   "metadata": {},
   "outputs": [],
   "source": [
    "\"\"\"Splitting data into train and test sets\"\"\"\n",
    "train_X, valid_X, train_labels, valid_labels = model_selection.train_test_split(X, label_encoded_y,\n",
    "                                                                                shuffle=True, test_size=0.20,\n",
    "                                                                                random_state=42, \n",
    "                                                                                stratify= label_encoded_y)"
   ]
  },
  {
   "cell_type": "markdown",
   "metadata": {},
   "source": [
    "Before the learning we will use the cross validation to evaluate the our error rate.\n",
    "\n",
    "Basically **XGBoost** will divide the training data in `nfold` parts, then **XGBoost** will retain the first part and use it as the test data. Then it will reintegrate the first part to the training dataset and retain the second part, do a training and so on..."
   ]
  },
  {
   "cell_type": "markdown",
   "metadata": {},
   "source": [
    "## Parallel Thread XGBoost, Parallel Thread Cross-Validation\n",
    "\n"
   ]
  },
  {
   "cell_type": "code",
   "execution_count": 182,
   "metadata": {},
   "outputs": [
    {
     "data": {
      "text/plain": [
       "2"
      ]
     },
     "execution_count": 182,
     "metadata": {},
     "output_type": "execute_result"
    }
   ],
   "source": [
    "# Building GRID SEARCH \n",
    "GS_model = XGBClassifier(objective= \"multi:softprob\",booster='gbtree',  n_jobs=-1)\n",
    "\n",
    "subsample = [0.80, 1]\n",
    "#learning_rate = [0.1, 0.2]\n",
    "#max_depth = [2,3]\n",
    "#min_child_weight = [1, 1.2]\n",
    "#gamma = [0, 0.15]\n",
    "\n",
    "param_grid = dict(subsample = subsample)\n",
    "pg = ParameterGrid(param_grid)\n",
    "len(pg)"
   ]
  },
  {
   "cell_type": "code",
   "execution_count": 183,
   "metadata": {},
   "outputs": [
    {
     "name": "stdout",
     "output_type": "stream",
     "text": [
      "Fitting 3 folds for each of 2 candidates, totalling 6 fits\n"
     ]
    },
    {
     "name": "stderr",
     "output_type": "stream",
     "text": [
      "[Parallel(n_jobs=-1)]: Using backend LokyBackend with 12 concurrent workers.\n",
      "[Parallel(n_jobs=-1)]: Done   4 out of   6 | elapsed:  2.4min remaining:  1.2min\n",
      "[Parallel(n_jobs=-1)]: Done   6 out of   6 | elapsed:  2.4min finished\n"
     ]
    },
    {
     "name": "stdout",
     "output_type": "stream",
     "text": [
      "Best: -0.651856 using {'subsample': 0.8}\n",
      "Parallel Thread XGBoost, Parallel Thread CV: 304.441287\n"
     ]
    }
   ],
   "source": [
    "start = time.time()\n",
    "kfold = StratifiedKFold(n_splits = 3, shuffle=True, random_state=42)\n",
    "grid_search = GridSearchCV(GS_model, param_grid, scoring=\"neg_log_loss\", n_jobs=-1, cv=kfold, verbose=1)\n",
    "grid_result = grid_search.fit(train_X, train_labels)\n",
    "print(\"Best: %f using %s\" % (grid_result.best_score_, grid_result.best_params_))\n",
    "elapsed = time.time() - start\n",
    "print(\"Parallel Thread XGBoost, Parallel Thread CV, Elapsed Time: %f\" % (elapsed))\n"
   ]
  },
  {
   "cell_type": "code",
   "execution_count": 184,
   "metadata": {},
   "outputs": [
    {
     "name": "stdout",
     "output_type": "stream",
     "text": [
      "Best: -0.651856 using {'subsample': 0.8}\n",
      "-0.651856 (0.002537) with: {'subsample': 0.8}\n",
      "-0.658526 (0.001935) with: {'subsample': 1}\n"
     ]
    }
   ],
   "source": [
    "# summarize results\n",
    "\n",
    "print(\"Best: %f using %s\" % (grid_result.best_score_, grid_result.best_params_))\n",
    "means = grid_result.cv_results_['mean_test_score']\n",
    "stds = grid_result.cv_results_['std_test_score']\n",
    "params = grid_result.cv_results_['params']\n",
    "for mean, stdev, param in zip(means, stds, params):\n",
    "    print(\"%f (%f) with: %r\" % (mean, stdev, param))"
   ]
  },
  {
   "cell_type": "code",
   "execution_count": 21,
   "metadata": {},
   "outputs": [
    {
     "data": {
      "text/plain": [
       "(12376, 12376)"
      ]
     },
     "execution_count": 21,
     "metadata": {},
     "output_type": "execute_result"
    }
   ],
   "source": [
    "len(valid_X), len(valid_labels)"
   ]
  },
  {
   "cell_type": "markdown",
   "metadata": {},
   "source": [
    "## Single Thread XGBoost, Single Thread Cross-Validation\n"
   ]
  },
  {
   "cell_type": "code",
   "execution_count": 26,
   "metadata": {},
   "outputs": [
    {
     "name": "stdout",
     "output_type": "stream",
     "text": [
      "2\n",
      "Fitting 3 folds for each of 2 candidates, totalling 6 fits\n"
     ]
    },
    {
     "name": "stderr",
     "output_type": "stream",
     "text": [
      "[Parallel(n_jobs=1)]: Using backend SequentialBackend with 1 concurrent workers.\n",
      "[Parallel(n_jobs=1)]: Done   6 out of   6 | elapsed: 10.5min finished\n"
     ]
    },
    {
     "name": "stdout",
     "output_type": "stream",
     "text": [
      "Best: -0.651856 using {'subsample': 0.8}\n",
      "Parallel Thread XGBoost, Parallel Thread CV, Elapsed Time: 782.629930\n"
     ]
    }
   ],
   "source": [
    "# Building GRID SEARCH \n",
    "GS_model = XGBClassifier(objective= \"multi:softprob\",booster='gbtree',  n_jobs=1)\n",
    "\n",
    "subsample = [0.80, 1]\n",
    "#learning_rate = [0.1, 0.2]\n",
    "#max_depth = [2,3]\n",
    "#min_child_weight = [1, 1.2]\n",
    "#gamma = [0, 0.15]\n",
    "\n",
    "param_grid = dict(subsample = subsample)\n",
    "pg = ParameterGrid(param_grid)\n",
    "print(len(pg))\n",
    "\n",
    "start = time.time()\n",
    "kfold = StratifiedKFold(n_splits = 3, shuffle=True, random_state=42)\n",
    "grid_search = GridSearchCV(GS_model, param_grid, scoring=\"neg_log_loss\", n_jobs=1, cv=kfold, verbose=1)\n",
    "grid_result = grid_search.fit(train_X, train_labels)\n",
    "print(\"Best: %f using %s\" % (grid_result.best_score_, grid_result.best_params_))\n",
    "elapsed = time.time() - start\n",
    "print(\"Parallel Thread XGBoost, Parallel Thread CV, Elapsed Time: %f\" % (elapsed))\n"
   ]
  },
  {
   "cell_type": "code",
   "execution_count": 27,
   "metadata": {},
   "outputs": [
    {
     "name": "stdout",
     "output_type": "stream",
     "text": [
      "Best: -0.651856 using {'subsample': 0.8}\n",
      "-0.651856 (0.002537) with: {'subsample': 0.8}\n",
      "-0.658526 (0.001935) with: {'subsample': 1}\n"
     ]
    }
   ],
   "source": [
    "# summarize results\n",
    "\n",
    "print(\"Best: %f using %s\" % (grid_result.best_score_, grid_result.best_params_))\n",
    "means = grid_result.cv_results_['mean_test_score']\n",
    "stds = grid_result.cv_results_['std_test_score']\n",
    "params = grid_result.cv_results_['params']\n",
    "for mean, stdev, param in zip(means, stds, params):\n",
    "    print(\"%f (%f) with: %r\" % (mean, stdev, param))"
   ]
  },
  {
   "cell_type": "markdown",
   "metadata": {},
   "source": [
    "#### We can see that the Running Time without multithreading  is 782.629 more than twice longer than using Parallel Threads (i.e. all 6 cores of the local CPU) where the Running Time was 304.44."
   ]
  },
  {
   "cell_type": "markdown",
   "metadata": {},
   "source": [
    "## Final Model Training"
   ]
  },
  {
   "cell_type": "code",
   "execution_count": null,
   "metadata": {},
   "outputs": [],
   "source": [
    "clf = XGBClassifier(n_jobs = -1,subsample=0.8, n_estimators=100, learning_rate=0.1)\n",
    "clf.fit(train_X, train_labels, early_stopping_rounds=100, eval_set = [(train_X, train_labels),(valid_X, valid_labels)])"
   ]
  },
  {
   "cell_type": "code",
   "execution_count": 16,
   "metadata": {
    "scrolled": true
   },
   "outputs": [
    {
     "name": "stdout",
     "output_type": "stream",
     "text": [
      "Accuracy: 0.8149644473173885\n",
      "Precision: 0.8102997951687697 0.8149644473173885 0.8120801411848321\n",
      "              precision    recall  f1-score   support\n",
      "\n",
      "           0       0.71      0.54      0.61       386\n",
      "           1       0.73      0.85      0.79      3224\n",
      "           2       0.62      0.50      0.55      1601\n",
      "           3       0.79      0.51      0.62       538\n",
      "           4       0.98      0.98      0.98       548\n",
      "           5       0.94      0.94      0.94      2827\n",
      "           6       0.77      0.68      0.72       568\n",
      "           7       0.92      0.94      0.93      1693\n",
      "           8       0.85      0.88      0.86       991\n",
      "\n",
      "    accuracy                           0.81     12376\n",
      "   macro avg       0.81      0.76      0.78     12376\n",
      "weighted avg       0.81      0.81      0.81     12376\n",
      "\n",
      "[[ 207    8    0    0    1   35   13   45   77]\n",
      " [   6 2755  369   44    6    8   24    5    7]\n",
      " [   2  755  798   15    0    0   23    4    4]\n",
      " [   0  153   90  274    4   13    3    0    1]\n",
      " [   0    7    0    1  539    1    0    0    0]\n",
      " [   9   25    4    4    0 2661   43   47   34]\n",
      " [  16   57   32    8    1   45  387   14    8]\n",
      " [  20   11    3    0    0   35    8 1594   22]\n",
      " [  33   18    1    0    1   33    2   32  871]]\n"
     ]
    }
   ],
   "source": [
    "predict = clf.predict(valid_X)\n",
    "\n",
    "print(\"Accuracy:\", accuracy_score(valid_labels, predict))\n",
    "print(\"Precision:\", precision_score(valid_labels, predict, average='macro'),\n",
    "      precision_score(valid_labels, predict, average='micro'), precision_score(valid_labels, predict, average='weighted'))\n",
    "print(classification_report(valid_labels, predict))\n",
    "print(confusion_matrix(valid_labels, predict))"
   ]
  },
  {
   "cell_type": "code",
   "execution_count": null,
   "metadata": {},
   "outputs": [],
   "source": []
  },
  {
   "cell_type": "markdown",
   "metadata": {},
   "source": [
    "## Evaluate the effect of the number of threads(parallelism)\n"
   ]
  },
  {
   "cell_type": "code",
   "execution_count": 32,
   "metadata": {},
   "outputs": [],
   "source": [
    "results = []\n",
    "num_threads = [1, 2, 3, 4, 5, 6, 7, 8, 9, 10, 11, 12]"
   ]
  },
  {
   "cell_type": "code",
   "execution_count": 34,
   "metadata": {},
   "outputs": [
    {
     "name": "stdout",
     "output_type": "stream",
     "text": [
      "No. of parallel threads: 1 Learning Time: 149.97723603248596\n",
      "Accuracy: 0.8149644473173885\n",
      "No. of parallel threads: 2 Learning Time: 77.43907570838928\n",
      "Accuracy: 0.8149644473173885\n",
      "No. of parallel threads: 3 Learning Time: 53.191312313079834\n",
      "Accuracy: 0.8149644473173885\n",
      "No. of parallel threads: 4 Learning Time: 46.35785508155823\n",
      "Accuracy: 0.8149644473173885\n",
      "No. of parallel threads: 5 Learning Time: 39.77633881568909\n",
      "Accuracy: 0.8149644473173885\n",
      "No. of parallel threads: 6 Learning Time: 43.05844187736511\n",
      "Accuracy: 0.8149644473173885\n",
      "No. of parallel threads: 7 Learning Time: 40.28342413902283\n",
      "Accuracy: 0.8149644473173885\n",
      "No. of parallel threads: 8 Learning Time: 37.92302203178406\n",
      "Accuracy: 0.8149644473173885\n",
      "No. of parallel threads: 9 Learning Time: 35.177626848220825\n",
      "Accuracy: 0.8149644473173885\n",
      "No. of parallel threads: 10 Learning Time: 32.675058126449585\n",
      "Accuracy: 0.8149644473173885\n",
      "No. of parallel threads: 11 Learning Time: 32.334880113601685\n",
      "Accuracy: 0.8149644473173885\n",
      "No. of parallel threads: 12 Learning Time: 31.725539207458496\n",
      "Accuracy: 0.8149644473173885\n"
     ]
    }
   ],
   "source": [
    "for n in num_threads:\n",
    "    start = time.time()\n",
    "    model = XGBClassifier(n_jobs=n, subsample=0.8)\n",
    "    model.fit(train_X, train_labels)\n",
    "    elapsed = time.time() - start\n",
    "    print(\"No. of parallel threads:\", n,\"Learning Time:\", elapsed)\n",
    "    results.append(elapsed)\n",
    "    model_predict = model.predict(valid_X)\n",
    "    #print(classification_report(valid_labels, model_predict))\n",
    "    print(\"Accuracy:\", accuracy_score(valid_labels, predict))\n",
    "\n"
   ]
  },
  {
   "cell_type": "markdown",
   "metadata": {},
   "source": [
    "## Plot Learning Time vs Number of Threads "
   ]
  },
  {
   "cell_type": "code",
   "execution_count": 35,
   "metadata": {
    "scrolled": true
   },
   "outputs": [
    {
     "data": {
      "image/png": "[encoded data removed]",
      "text/plain": [
       "<Figure size 432x288 with 1 Axes>"
      ]
     },
     "metadata": {
      "needs_background": "light"
     },
     "output_type": "display_data"
    }
   ],
   "source": [
    "# plot Evaluation results\n",
    "pyplot.plot(num_threads, results)\n",
    "pyplot.ylabel('Learning Time (seconds)')\n",
    "pyplot.xlabel('Number of Threads')\n",
    "pyplot.title('XGBoost Training Speed vs Number of Threads')\n",
    "pyplot.show()"
   ]
  },
  {
   "cell_type": "markdown",
   "metadata": {},
   "source": [
    "#### We can see a nice trend in the decrease in execution time as the number of threads is increased. \n",
    "\n",
    "For this local execution we ran this on on a **6-core intel processor, which has a total of 12 cores: 6 physical and an additional 6 virtual cores.***\n",
    "\n",
    "#### It is interesting to note that we do not see much improvement beyond the no. of physical cores i.e. 6 threads (at about 40 seconds), after which the gains are more or less absent. \n",
    "\n",
    "The results suggest that if you have a machine with hyperthreading, you may want to set num_threads to equal the number of physical CPU cores in your machine."
   ]
  },
  {
   "cell_type": "markdown",
   "metadata": {},
   "source": [
    "### For Parallel-Cross Validation we can also compare the following scenarios:"
   ]
  },
  {
   "cell_type": "code",
   "execution_count": 89,
   "metadata": {},
   "outputs": [
    {
     "name": "stdout",
     "output_type": "stream",
     "text": [
      "Single Thread XGBoost, Parallel Thread CV: 365.254714\n"
     ]
    }
   ],
   "source": [
    "# Prepare cross validation\n",
    "kfold = StratifiedKFold(n_splits=10, shuffle=True, random_state=7)\n",
    "\n",
    "# Single Thread XGBoost, Parallel Thread CV\n",
    "start = time.time()\n",
    "model = XGBClassifier(nthread=1)\n",
    "results = cross_val_score(model, X, train_labels, cv=kfold, scoring='neg_log_loss', n_jobs=-1)\n",
    "elapsed = time.time() - start\n"
   ]
  },
  {
   "cell_type": "code",
   "execution_count": 90,
   "metadata": {},
   "outputs": [
    {
     "name": "stdout",
     "output_type": "stream",
     "text": [
      "Parallel Thread XGBoost, Single Thread CV: 394.684315\n"
     ]
    }
   ],
   "source": [
    "# Parallel Thread XGBoost, Single Thread CV\n",
    "start = time.time()\n",
    "model = XGBClassifier(nthread=-1)\n",
    "results = cross_val_score(model, X, label_encoded_y, cv=kfold, scoring='neg_log_loss', n_jobs=1)\n",
    "elapsed = time.time() - start\n",
    "print(\"Parallel Thread XGBoost, Single Thread CV: %f\" % (elapsed))\n"
   ]
  },
  {
   "cell_type": "code",
   "execution_count": 91,
   "metadata": {},
   "outputs": [
    {
     "name": "stdout",
     "output_type": "stream",
     "text": [
      "Parallel Thread XGBoost and CV: 352.520111\n"
     ]
    }
   ],
   "source": [
    "# Parallel Thread XGBoost and CV\n",
    "start = time.time()\n",
    "model = XGBClassifier(nthread=-1)\n",
    "results = cross_val_score(model, X, label_encoded_y, cv=kfold, scoring='neg_log_loss', n_jobs=-1)\n",
    "elapsed = time.time() - start\n",
    "print(\"Parallel Thread XGBoost and CV: %f\" % (elapsed))"
   ]
  },
  {
   "cell_type": "code",
   "execution_count": 93,
   "metadata": {},
   "outputs": [
    {
     "name": "stdout",
     "output_type": "stream",
     "text": [
      "[-0.64857141 -0.64966988 -0.65863478 -0.65553963 -0.65221448 -0.65320684\n",
      " -0.66513679 -0.64852363 -0.65310605 -0.64974786]\n"
     ]
    }
   ],
   "source": [
    "print(results)"
   ]
  },
  {
   "cell_type": "markdown",
   "metadata": {},
   "source": [
    "**FEATURE IMPORTANCE**"
   ]
  },
  {
   "cell_type": "code",
   "execution_count": null,
   "metadata": {},
   "outputs": [],
   "source": []
  }
 ],
 "metadata": {
  "kernelspec": {
   "display_name": "Python 3",
   "language": "python",
   "name": "python3"
  },
  "language_info": {
   "codemirror_mode": {
    "name": "ipython",
    "version": 3
   },
   "file_extension": ".py",
   "mimetype": "text/x-python",
   "name": "python",
   "nbconvert_exporter": "python",
   "pygments_lexer": "ipython3",
   "version": "3.7.4"
  }
 },
 "nbformat": 4,
 "nbformat_minor": 2
}
